{
 "cells": [
  {
   "cell_type": "code",
   "execution_count": 1,
   "metadata": {
    "collapsed": true
   },
   "outputs": [],
   "source": [
    "input_file = sc.textFile('input2.txt')"
   ]
  },
  {
   "cell_type": "code",
   "execution_count": 2,
   "metadata": {
    "collapsed": false
   },
   "outputs": [
    {
     "data": {
      "text/plain": [
       "[u\"The Project Gutenberg Etext of Plutarch's Lives, by A.H. Clough\",\n",
       " u'Also known as \"Parallel Lives\", written in Greek ~100 A.D.',\n",
       " u'Includes 50 biographies, 23 Greek, 23 Roman, 2 others.',\n",
       " u'',\n",
       " u'',\n",
       " u'Copyright laws are changing all over the world, be sure to check',\n",
       " u'the copyright laws for your country before posting these files!!',\n",
       " u'',\n",
       " u'Please take a look at the important information in this header.',\n",
       " u'We encourage you to keep this file on your own disk, keeping an']"
      ]
     },
     "execution_count": 2,
     "metadata": {},
     "output_type": "execute_result"
    }
   ],
   "source": [
    "input_file.take(10)"
   ]
  },
  {
   "cell_type": "code",
   "execution_count": 3,
   "metadata": {
    "collapsed": false
   },
   "outputs": [],
   "source": [
    "import string\n",
    "import unicodedata\n",
    "import re\n",
    "def delete_punctuation_marks(line):\n",
    "    punctuation = string.punctuation\n",
    "    line = re.sub(r'#([^\\s]+)',r'\\1',line)\n",
    "    line = re.sub(r'([abdefghijkmnopqstuvwyz])\\1+', r'\\1', line)\n",
    "    line = u''.join([i for i in line if not i.isdigit()])\n",
    "    for punct in punctuation:\n",
    "        line = re.sub(re.escape(punct),'',line)\n",
    "    return line.strip().lower().rstrip()\n"
   ]
  },
  {
   "cell_type": "code",
   "execution_count": 4,
   "metadata": {
    "collapsed": false
   },
   "outputs": [],
   "source": [
    "clean_text = input_file.map(delete_punctuation_marks).filter(lambda x: x is not u'')"
   ]
  },
  {
   "cell_type": "code",
   "execution_count": 5,
   "metadata": {
    "collapsed": false
   },
   "outputs": [
    {
     "data": {
      "text/plain": [
       "[u'the project gutenberg etext of plutarchs lives by ah clough',\n",
       " u'also known as parallel lives writen in grek  ad',\n",
       " u'includes  biographies  grek  roman  others',\n",
       " u'copyright laws are changing all over the world be sure to check',\n",
       " u'the copyright laws for your country before posting these files',\n",
       " u'please take a lok at the important information in this header',\n",
       " u'we encourage you to kep this file on your own disk keping an',\n",
       " u'electronic path open for the next readers  do not remove this',\n",
       " u'welcome to the world of fre plain vanilla electronic texts',\n",
       " u'etexts readable by both humans and by computers since',\n",
       " u'these etexts prepared by hundreds of volunters and donations',\n",
       " u'information on contacting project gutenberg to get etexts and',\n",
       " u'further information is included below  we ned your donations',\n",
       " u'plutarchs lives',\n",
       " u'edited by ah clough',\n",
       " u'october   etext',\n",
       " u'the project gutenberg etext of plutarchs lives by ah clough',\n",
       " u'this file should be named txt or zip',\n",
       " u'we are now trying to release all our boks one month in advance',\n",
       " u'of the oficial release dates for time for beter editing']"
      ]
     },
     "execution_count": 5,
     "metadata": {},
     "output_type": "execute_result"
    }
   ],
   "source": [
    "clean_text.take(20)"
   ]
  },
  {
   "cell_type": "code",
   "execution_count": 6,
   "metadata": {
    "collapsed": false
   },
   "outputs": [],
   "source": [
    "def count_words_foreach_word(line):\n",
    "    tuples_list = list()\n",
    "    line = line.split()\n",
    "    for i in range(len(line)):\n",
    "        word = line[i]\n",
    "        for j in range(len(line)):\n",
    "            if j==i: continue\n",
    "            tuples_list.append(((word,line[j]),1))\n",
    "    return tuples_list"
   ]
  },
  {
   "cell_type": "code",
   "execution_count": 7,
   "metadata": {
    "collapsed": true
   },
   "outputs": [],
   "source": [
    "from operator import add"
   ]
  },
  {
   "cell_type": "code",
   "execution_count": 8,
   "metadata": {
    "collapsed": false
   },
   "outputs": [],
   "source": [
    "count_text = clean_text.flatMap(count_words_foreach_word).reduceByKey(add).map(lambda x: (x[0][0],(x[0][1],x[1])))"
   ]
  },
  {
   "cell_type": "code",
   "execution_count": 9,
   "metadata": {
    "collapsed": false
   },
   "outputs": [
    {
     "data": {
      "text/plain": [
       "[(u'well', (u'dyers', 1)),\n",
       " (u'wield', (u'am', 1)),\n",
       " (u'war', (u'mere', 6)),\n",
       " (u'lagons', (u'the', 1)),\n",
       " (u'castle', (u'prisoners', 1)),\n",
       " (u'apearance', (u'god', 1)),\n",
       " (u'persians', (u'wives', 1)),\n",
       " (u'losed', (u'metaphor', 1)),\n",
       " (u'his', (u'banishment', 24)),\n",
       " (u'came', (u'trumpets', 1)),\n",
       " (u'small', (u'account', 2)),\n",
       " (u'about', (u'hung', 4)),\n",
       " (u'nations', (u'rhine', 1)),\n",
       " (u'proposal', (u'withstod', 1)),\n",
       " (u'slow', (u'sure', 1)),\n",
       " (u'reckon', (u'hapy', 1)),\n",
       " (u'family', (u'objections', 1)),\n",
       " (u'eager', (u'expectation', 1)),\n",
       " (u'conditions', (u'senate', 1)),\n",
       " (u'lifting', (u'with', 4))]"
      ]
     },
     "execution_count": 9,
     "metadata": {},
     "output_type": "execute_result"
    }
   ],
   "source": [
    "count_text.take(20)"
   ]
  },
  {
   "cell_type": "code",
   "execution_count": 10,
   "metadata": {
    "collapsed": true
   },
   "outputs": [],
   "source": [
    "from operator import itemgetter\n",
    "def top_N(x):\n",
    "    words_ocurrences = list(x[1])\n",
    "    words_ocurrences.sort(key=itemgetter(1), reverse = True)\n",
    "    if len(words_ocurrences) > 10:\n",
    "        words_ocurrences = words_ocurrences[:10]\n",
    "    return (x[0], words_ocurrences)"
   ]
  },
  {
   "cell_type": "code",
   "execution_count": 11,
   "metadata": {
    "collapsed": false
   },
   "outputs": [],
   "source": [
    "group_count_text = count_text.groupByKey().map(top_N)"
   ]
  },
  {
   "cell_type": "code",
   "execution_count": 12,
   "metadata": {
    "collapsed": false
   },
   "outputs": [
    {
     "data": {
      "text/plain": [
       "[(u'fawn',\n",
       "  [(u'the', 5),\n",
       "   (u'and', 2),\n",
       "   (u'decres', 1),\n",
       "   (u'athenians', 1),\n",
       "   (u'go', 1),\n",
       "   (u'let', 1),\n",
       "   (u'fear', 1),\n",
       "   (u'hunters', 1),\n",
       "   (u'from', 1),\n",
       "   (u'through', 1)]),\n",
       " (u'biger',\n",
       "  [(u'and', 2),\n",
       "   (u'a', 1),\n",
       "   (u'but', 1),\n",
       "   (u'with', 1),\n",
       "   (u'they', 1),\n",
       "   (u'away', 1),\n",
       "   (u'them', 1),\n",
       "   (u'all', 1),\n",
       "   (u'chains', 1),\n",
       "   (u'gylipus', 1)]),\n",
       " (u'foul',\n",
       "  [(u'and', 17),\n",
       "   (u'the', 16),\n",
       "   (u'of', 13),\n",
       "   (u'to', 8),\n",
       "   (u'fell', 5),\n",
       "   (u'that', 5),\n",
       "   (u'upon', 4),\n",
       "   (u'for', 4),\n",
       "   (u'or', 4),\n",
       "   (u'a', 3)]),\n",
       " (u'four',\n",
       "  [(u'and', 94),\n",
       "   (u'of', 91),\n",
       "   (u'the', 85),\n",
       "   (u'a', 37),\n",
       "   (u'hundred', 36),\n",
       "   (u'with', 32),\n",
       "   (u'thousand', 30),\n",
       "   (u'in', 30),\n",
       "   (u'to', 28),\n",
       "   (u'his', 28)]),\n",
       " (u'conjuring',\n",
       "  [(u'the', 4),\n",
       "   (u'rest', 2),\n",
       "   (u'them', 2),\n",
       "   (u'and', 1),\n",
       "   (u'cried', 1),\n",
       "   (u'anaphlystian', 1),\n",
       "   (u'by', 1),\n",
       "   (u'of', 1),\n",
       "   (u'guardian', 1),\n",
       "   (u'army', 1)]),\n",
       " (u'cyprus',\n",
       "  [(u'the', 25),\n",
       "   (u'of', 23),\n",
       "   (u'and', 21),\n",
       "   (u'to', 20),\n",
       "   (u'he', 15),\n",
       "   (u'in', 13),\n",
       "   (u'from', 9),\n",
       "   (u'that', 9),\n",
       "   (u'ptolemy', 9),\n",
       "   (u'as', 7)]),\n",
       " (u'esteming',\n",
       "  [(u'the', 12),\n",
       "   (u'and', 9),\n",
       "   (u'of', 8),\n",
       "   (u'it', 8),\n",
       "   (u'as', 6),\n",
       "   (u'in', 6),\n",
       "   (u'to', 6),\n",
       "   (u'but', 4),\n",
       "   (u'not', 3),\n",
       "   (u'a', 3)]),\n",
       " (u'phyllius',\n",
       "  [(u'did', 1),\n",
       "   (u'spartans', 1),\n",
       "   (u'the', 1),\n",
       "   (u'but', 1),\n",
       "   (u'particular', 1),\n",
       "   (u'in', 1),\n",
       "   (u'gallantly', 1),\n",
       "   (u'of', 1),\n",
       "   (u'one', 1)]),\n",
       " (u'scold',\n",
       "  [(u'a', 2),\n",
       "   (u'who', 2),\n",
       "   (u'life', 1),\n",
       "   (u'was', 1),\n",
       "   (u'with', 1),\n",
       "   (u'and', 1),\n",
       "   (u'were', 1),\n",
       "   (u'contented', 1),\n",
       "   (u'children', 1),\n",
       "   (u'wife', 1)]),\n",
       " (u'thyreatis',\n",
       "  [(u'way', 1),\n",
       "   (u'espied', 1),\n",
       "   (u'was', 1),\n",
       "   (u'as', 1),\n",
       "   (u'pyramia', 1),\n",
       "   (u'a', 1),\n",
       "   (u'towards', 1),\n",
       "   (u'in', 1),\n",
       "   (u'on', 1),\n",
       "   (u'he', 1)]),\n",
       " (u'abounding',\n",
       "  [(u'and', 6),\n",
       "   (u'in', 6),\n",
       "   (u'of', 4),\n",
       "   (u'as', 3),\n",
       "   (u'did', 2),\n",
       "   (u'the', 2),\n",
       "   (u'they', 2),\n",
       "   (u'wealth', 2),\n",
       "   (u'preserve', 1),\n",
       "   (u'hapy', 1)]),\n",
       " (u'lernaean',\n",
       "  [(u'the', 1),\n",
       "   (u'with', 1),\n",
       "   (u'they', 1),\n",
       "   (u'for', 1),\n",
       "   (u'might', 1),\n",
       "   (u'fighting', 1),\n",
       "   (u'a', 1),\n",
       "   (u'were', 1),\n",
       "   (u'that', 1),\n",
       "   (u'hydra', 1)]),\n",
       " (u'sinking',\n",
       "  [(u'and', 7),\n",
       "   (u'was', 4),\n",
       "   (u'the', 4),\n",
       "   (u'but', 3),\n",
       "   (u'under', 3),\n",
       "   (u'at', 3),\n",
       "   (u'with', 2),\n",
       "   (u'not', 2),\n",
       "   (u'state', 2),\n",
       "   (u'could', 2)]),\n",
       " (u'reapeared',\n",
       "  [(u'and', 1),\n",
       "   (u'did', 1),\n",
       "   (u'they', 1),\n",
       "   (u'renew', 1),\n",
       "   (u'as', 1),\n",
       "   (u'after', 1),\n",
       "   (u'defeats', 1),\n",
       "   (u'their', 1),\n",
       "   (u'to', 1),\n",
       "   (u'again', 1)]),\n",
       " (u'winterquarters',\n",
       "  [(u'to', 4),\n",
       "   (u'his', 3),\n",
       "   (u'their', 3),\n",
       "   (u'into', 2),\n",
       "   (u'them', 2),\n",
       "   (u'with', 1),\n",
       "   (u'and', 1),\n",
       "   (u'armenia', 1),\n",
       "   (u'this', 1),\n",
       "   (u'but', 1)]),\n",
       " (u'overpersuading',\n",
       "  [(u'the', 2),\n",
       "   (u'and', 1),\n",
       "   (u'drawing', 1),\n",
       "   (u'up', 1),\n",
       "   (u'covered', 1),\n",
       "   (u'archelaus', 1),\n",
       "   (u'army', 1),\n",
       "   (u'plain', 1)]),\n",
       " (u'bile',\n",
       "  [(u'place', 2),\n",
       "   (u'from', 1),\n",
       "   (u'they', 1),\n",
       "   (u'but', 1),\n",
       "   (u'the', 1),\n",
       "   (u'and', 1),\n",
       "   (u'end', 1),\n",
       "   (u'up', 1),\n",
       "   (u'in', 1),\n",
       "   (u'to', 1)]),\n",
       " (u'quiting',\n",
       "  [(u'the', 24),\n",
       "   (u'and', 18),\n",
       "   (u'of', 12),\n",
       "   (u'their', 9),\n",
       "   (u'his', 8),\n",
       "   (u'he', 6),\n",
       "   (u'to', 6),\n",
       "   (u'was', 5),\n",
       "   (u'as', 5),\n",
       "   (u'with', 5)]),\n",
       " (u'yellow',\n",
       "  [(u'they', 2),\n",
       "   (u'a', 2),\n",
       "   (u'to', 2),\n",
       "   (u'was', 1),\n",
       "   (u'only', 1),\n",
       "   (u'purple', 1),\n",
       "   (u'black', 1),\n",
       "   (u'this', 1),\n",
       "   (u'the', 1),\n",
       "   (u'what', 1)]),\n",
       " (u'politician',\n",
       "  [(u'as', 4),\n",
       "   (u'a', 3),\n",
       "   (u'the', 2),\n",
       "   (u'so', 2),\n",
       "   (u'afairs', 2),\n",
       "   (u'to', 2),\n",
       "   (u'forward', 1),\n",
       "   (u'wise', 1),\n",
       "   (u'and', 1),\n",
       "   (u'ever', 1)])]"
      ]
     },
     "execution_count": 12,
     "metadata": {},
     "output_type": "execute_result"
    }
   ],
   "source": [
    "group_count_text.take(20)"
   ]
  },
  {
   "cell_type": "code",
   "execution_count": 13,
   "metadata": {
    "collapsed": true
   },
   "outputs": [],
   "source": [
    "all_words = group_count_text.collect()"
   ]
  },
  {
   "cell_type": "code",
   "execution_count": 14,
   "metadata": {
    "collapsed": true
   },
   "outputs": [],
   "source": [
    "import sys\n",
    "reload(sys)\n",
    "sys.setdefaultencoding(\"utf-8\")"
   ]
  },
  {
   "cell_type": "code",
   "execution_count": 15,
   "metadata": {
    "collapsed": false
   },
   "outputs": [],
   "source": [
    "with open(\"first-part_output.txt\", 'w') as output:\n",
    "    for a in all_words:\n",
    "        list_words = ' '.join(str(e).encode('utf-8').strip() for e in a[1])\n",
    "        output.write(a[0]+'\\t'+list_words+'\\n')"
   ]
  },
  {
   "cell_type": "code",
   "execution_count": 61,
   "metadata": {
    "collapsed": false
   },
   "outputs": [
    {
     "data": {
      "text/plain": [
       "\"oracular [(u'or', 1), (u'an', 1), (u'designing', 1), (u'pleasure', 1), (u'own', 1), (u'his', 1), (u'to', 1), (u'whether', 1), (u'advice', 1), (u'erect', 1)]\""
      ]
     },
     "execution_count": 61,
     "metadata": {},
     "output_type": "execute_result"
    }
   ],
   "source": [
    "list_words"
   ]
  }
 ],
 "metadata": {
  "kernelspec": {
   "display_name": "Python 2",
   "language": "python",
   "name": "python2"
  },
  "language_info": {
   "codemirror_mode": {
    "name": "ipython",
    "version": 2
   },
   "file_extension": ".py",
   "mimetype": "text/x-python",
   "name": "python",
   "nbconvert_exporter": "python",
   "pygments_lexer": "ipython2",
   "version": "2.7.12"
  }
 },
 "nbformat": 4,
 "nbformat_minor": 1
}
